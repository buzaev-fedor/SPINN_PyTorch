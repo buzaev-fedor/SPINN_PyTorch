{
 "cells": [
  {
   "attachments": {},
   "cell_type": "markdown",
   "metadata": {},
   "source": [
    "* If you're running this on Google Colab, please uncomment and run the cell below."
   ]
  },
  {
   "cell_type": "code",
   "execution_count": 1,
   "metadata": {},
   "outputs": [],
   "source": [
    "# !pip install --upgrade \"jax[cuda12_pip]\" -f https://storage.googleapis.com/jax-releases/jax_cuda_releases.html"
   ]
  },
  {
   "cell_type": "code",
   "execution_count": 3,
   "metadata": {},
   "outputs": [
    {
     "name": "stdout",
     "output_type": "stream",
     "text": [
      "Looking in indexes: https://pypi.org/simple, https://pypi.ngc.nvidia.com\n",
      "Looking in links: https://storage.googleapis.com/jax-releases/jax_cuda_releases.html\n",
      "Requirement already satisfied: jax[cuda12_pip] in /home/user/miniconda3/lib/python3.12/site-packages (0.5.2)\n",
      "Requirement already satisfied: jaxlib<=0.5.2,>=0.5.1 in /home/user/miniconda3/lib/python3.12/site-packages (from jax[cuda12_pip]) (0.5.1)\n",
      "Requirement already satisfied: ml_dtypes>=0.4.0 in /home/user/miniconda3/lib/python3.12/site-packages (from jax[cuda12_pip]) (0.5.1)\n",
      "Requirement already satisfied: numpy>=1.25 in /home/user/miniconda3/lib/python3.12/site-packages (from jax[cuda12_pip]) (2.2.3)\n",
      "Requirement already satisfied: opt_einsum in /home/user/miniconda3/lib/python3.12/site-packages (from jax[cuda12_pip]) (3.4.0)\n",
      "Requirement already satisfied: scipy>=1.11.1 in /home/user/miniconda3/lib/python3.12/site-packages (from jax[cuda12_pip]) (1.15.2)\n",
      "Requirement already satisfied: jax-cuda12-plugin<=0.5.2,>=0.5.1 in /home/user/miniconda3/lib/python3.12/site-packages (from jax-cuda12-plugin[with_cuda]<=0.5.2,>=0.5.1; extra == \"cuda12-pip\"->jax[cuda12_pip]) (0.5.1)\n",
      "Requirement already satisfied: jax-cuda12-pjrt==0.5.1 in /home/user/miniconda3/lib/python3.12/site-packages (from jax-cuda12-plugin<=0.5.2,>=0.5.1->jax-cuda12-plugin[with_cuda]<=0.5.2,>=0.5.1; extra == \"cuda12-pip\"->jax[cuda12_pip]) (0.5.1)\n",
      "Requirement already satisfied: nvidia-cublas-cu12>=12.1.3.1 in /home/user/miniconda3/lib/python3.12/site-packages (from jax-cuda12-plugin[with_cuda]<=0.5.2,>=0.5.1; extra == \"cuda12-pip\"->jax[cuda12_pip]) (12.8.3.14)\n",
      "Requirement already satisfied: nvidia-cuda-cupti-cu12>=12.1.105 in /home/user/miniconda3/lib/python3.12/site-packages (from jax-cuda12-plugin[with_cuda]<=0.5.2,>=0.5.1; extra == \"cuda12-pip\"->jax[cuda12_pip]) (12.8.57)\n",
      "Requirement already satisfied: nvidia-cuda-nvcc-cu12>=12.6.85 in /home/user/miniconda3/lib/python3.12/site-packages (from jax-cuda12-plugin[with_cuda]<=0.5.2,>=0.5.1; extra == \"cuda12-pip\"->jax[cuda12_pip]) (12.8.61)\n",
      "Requirement already satisfied: nvidia-cuda-runtime-cu12>=12.1.105 in /home/user/miniconda3/lib/python3.12/site-packages (from jax-cuda12-plugin[with_cuda]<=0.5.2,>=0.5.1; extra == \"cuda12-pip\"->jax[cuda12_pip]) (12.8.57)\n",
      "Requirement already satisfied: nvidia-cudnn-cu12<10.0,>=9.1 in /home/user/miniconda3/lib/python3.12/site-packages (from jax-cuda12-plugin[with_cuda]<=0.5.2,>=0.5.1; extra == \"cuda12-pip\"->jax[cuda12_pip]) (9.7.1.26)\n",
      "Requirement already satisfied: nvidia-cufft-cu12>=11.0.2.54 in /home/user/miniconda3/lib/python3.12/site-packages (from jax-cuda12-plugin[with_cuda]<=0.5.2,>=0.5.1; extra == \"cuda12-pip\"->jax[cuda12_pip]) (11.3.3.41)\n",
      "Requirement already satisfied: nvidia-cusolver-cu12>=11.4.5.107 in /home/user/miniconda3/lib/python3.12/site-packages (from jax-cuda12-plugin[with_cuda]<=0.5.2,>=0.5.1; extra == \"cuda12-pip\"->jax[cuda12_pip]) (11.7.2.55)\n",
      "Requirement already satisfied: nvidia-cusparse-cu12>=12.1.0.106 in /home/user/miniconda3/lib/python3.12/site-packages (from jax-cuda12-plugin[with_cuda]<=0.5.2,>=0.5.1; extra == \"cuda12-pip\"->jax[cuda12_pip]) (12.5.7.53)\n",
      "Requirement already satisfied: nvidia-nccl-cu12>=2.18.1 in /home/user/miniconda3/lib/python3.12/site-packages (from jax-cuda12-plugin[with_cuda]<=0.5.2,>=0.5.1; extra == \"cuda12-pip\"->jax[cuda12_pip]) (2.25.1)\n",
      "Requirement already satisfied: nvidia-nvjitlink-cu12>=12.1.105 in /home/user/miniconda3/lib/python3.12/site-packages (from jax-cuda12-plugin[with_cuda]<=0.5.2,>=0.5.1; extra == \"cuda12-pip\"->jax[cuda12_pip]) (12.8.61)\n"
     ]
    }
   ],
   "source": [
    "!pip install --upgrade \"jax[cuda12_pip]\" -f https://storage.googleapis.com/jax-releases/jax_cuda_releases.html"
   ]
  },
  {
   "cell_type": "code",
   "execution_count": 2,
   "metadata": {},
   "outputs": [
    {
     "name": "stdout",
     "output_type": "stream",
     "text": [
      "Looking in indexes: https://pypi.org/simple, https://pypi.ngc.nvidia.com\n",
      "Collecting matplotlib\n",
      "  Downloading matplotlib-3.10.1-cp312-cp312-manylinux_2_17_x86_64.manylinux2014_x86_64.whl.metadata (11 kB)\n",
      "Collecting contourpy>=1.0.1 (from matplotlib)\n",
      "  Downloading contourpy-1.3.1-cp312-cp312-manylinux_2_17_x86_64.manylinux2014_x86_64.whl.metadata (5.4 kB)\n",
      "Collecting cycler>=0.10 (from matplotlib)\n",
      "  Downloading cycler-0.12.1-py3-none-any.whl.metadata (3.8 kB)\n",
      "Collecting fonttools>=4.22.0 (from matplotlib)\n",
      "  Downloading fonttools-4.56.0-cp312-cp312-manylinux_2_5_x86_64.manylinux1_x86_64.manylinux_2_17_x86_64.manylinux2014_x86_64.whl.metadata (101 kB)\n",
      "Collecting kiwisolver>=1.3.1 (from matplotlib)\n",
      "  Downloading kiwisolver-1.4.8-cp312-cp312-manylinux_2_17_x86_64.manylinux2014_x86_64.whl.metadata (6.2 kB)\n",
      "Requirement already satisfied: numpy>=1.23 in /home/user/miniconda3/lib/python3.12/site-packages (from matplotlib) (2.2.3)\n",
      "Requirement already satisfied: packaging>=20.0 in /home/user/miniconda3/lib/python3.12/site-packages (from matplotlib) (24.2)\n",
      "Collecting pillow>=8 (from matplotlib)\n",
      "  Downloading pillow-11.1.0-cp312-cp312-manylinux_2_28_x86_64.whl.metadata (9.1 kB)\n",
      "Collecting pyparsing>=2.3.1 (from matplotlib)\n",
      "  Downloading pyparsing-3.2.1-py3-none-any.whl.metadata (5.0 kB)\n",
      "Requirement already satisfied: python-dateutil>=2.7 in /home/user/miniconda3/lib/python3.12/site-packages (from matplotlib) (2.9.0.post0)\n",
      "Requirement already satisfied: six>=1.5 in /home/user/miniconda3/lib/python3.12/site-packages (from python-dateutil>=2.7->matplotlib) (1.17.0)\n",
      "Downloading matplotlib-3.10.1-cp312-cp312-manylinux_2_17_x86_64.manylinux2014_x86_64.whl (8.6 MB)\n",
      "\u001b[2K   \u001b[90m━━━━━━━━━━━━━━━━━━━━━━━━━━━━━━━━━━━━━━━━\u001b[0m \u001b[32m8.6/8.6 MB\u001b[0m \u001b[31m31.3 MB/s\u001b[0m eta \u001b[36m0:00:00\u001b[0ma \u001b[36m0:00:01\u001b[0m\n",
      "\u001b[?25hDownloading contourpy-1.3.1-cp312-cp312-manylinux_2_17_x86_64.manylinux2014_x86_64.whl (323 kB)\n",
      "Downloading cycler-0.12.1-py3-none-any.whl (8.3 kB)\n",
      "Downloading fonttools-4.56.0-cp312-cp312-manylinux_2_5_x86_64.manylinux1_x86_64.manylinux_2_17_x86_64.manylinux2014_x86_64.whl (4.9 MB)\n",
      "\u001b[2K   \u001b[90m━━━━━━━━━━━━━━━━━━━━━━━━━━━━━━━━━━━━━━━━\u001b[0m \u001b[32m4.9/4.9 MB\u001b[0m \u001b[31m42.3 MB/s\u001b[0m eta \u001b[36m0:00:00\u001b[0m\n",
      "\u001b[?25hDownloading kiwisolver-1.4.8-cp312-cp312-manylinux_2_17_x86_64.manylinux2014_x86_64.whl (1.5 MB)\n",
      "\u001b[2K   \u001b[90m━━━━━━━━━━━━━━━━━━━━━━━━━━━━━━━━━━━━━━━━\u001b[0m \u001b[32m1.5/1.5 MB\u001b[0m \u001b[31m104.3 MB/s\u001b[0m eta \u001b[36m0:00:00\u001b[0m\n",
      "\u001b[?25hDownloading pillow-11.1.0-cp312-cp312-manylinux_2_28_x86_64.whl (4.5 MB)\n",
      "\u001b[2K   \u001b[90m━━━━━━━━━━━━━━━━━━━━━━━━━━━━━━━━━━━━━━━━\u001b[0m \u001b[32m4.5/4.5 MB\u001b[0m \u001b[31m47.7 MB/s\u001b[0m eta \u001b[36m0:00:00\u001b[0m\n",
      "\u001b[?25hDownloading pyparsing-3.2.1-py3-none-any.whl (107 kB)\n",
      "Installing collected packages: pyparsing, pillow, kiwisolver, fonttools, cycler, contourpy, matplotlib\n",
      "Successfully installed contourpy-1.3.1 cycler-0.12.1 fonttools-4.56.0 kiwisolver-1.4.8 matplotlib-3.10.1 pillow-11.1.0 pyparsing-3.2.1\n"
     ]
    }
   ],
   "source": [
    "!pip install matplotlib"
   ]
  },
  {
   "cell_type": "code",
   "execution_count": 3,
   "metadata": {
    "executionInfo": {
     "elapsed": 2,
     "status": "ok",
     "timestamp": 1660882519921,
     "user": {
      "displayName": "Seungtae Nam",
      "userId": "06693906068580730486"
     },
     "user_tz": -540
    },
    "id": "KoC-hLN4Oliv"
   },
   "outputs": [],
   "source": [
    "%matplotlib inline\n",
    "import os\n",
    "import time\n",
    "import jax\n",
    "import jax.numpy as jnp\n",
    "import optax\n",
    "import matplotlib.pyplot as plt\n",
    "from tqdm import trange\n",
    "from jax import jvp, value_and_grad\n",
    "from flax import linen as nn\n",
    "from typing import Sequence\n",
    "from functools import partial"
   ]
  },
  {
   "attachments": {},
   "cell_type": "markdown",
   "metadata": {
    "id": "lOqc5OoSN_5M"
   },
   "source": [
    "## 1. SPINN"
   ]
  },
  {
   "cell_type": "code",
   "execution_count": 4,
   "metadata": {
    "executionInfo": {
     "elapsed": 464,
     "status": "ok",
     "timestamp": 1660882524486,
     "user": {
      "displayName": "Seungtae Nam",
      "userId": "06693906068580730486"
     },
     "user_tz": -540
    },
    "id": "3lmf86_ON_5N"
   },
   "outputs": [],
   "source": [
    "# forward function\n",
    "class SPINN(nn.Module):\n",
    "    features: Sequence[int]\n",
    "\n",
    "    @nn.compact\n",
    "    def __call__(self, x, y, z):\n",
    "        inputs, outputs = [x, y, z], []\n",
    "        init = nn.initializers.glorot_normal()\n",
    "        for X in inputs:\n",
    "            for fs in self.features[:-1]:\n",
    "                X = nn.Dense(fs, kernel_init=init)(X)\n",
    "                X = nn.activation.tanh(X)\n",
    "            X = nn.Dense(self.features[-1], kernel_init=init)(X)\n",
    "            outputs += [jnp.transpose(X, (1, 0))]\n",
    "        xy = jnp.einsum('fx, fy->fxy', outputs[0], outputs[1])\n",
    "        return jnp.einsum('fxy, fz->xyz', xy, outputs[-1])\n",
    "\n",
    "\n",
    "# hessian-vector product\n",
    "def hvp_fwdfwd(f, primals, tangents, return_primals=False):\n",
    "    g = lambda primals: jvp(f, (primals,), tangents)[1]\n",
    "    primals_out, tangents_out = jvp(g, primals, tangents)\n",
    "    if return_primals:\n",
    "        return primals_out, tangents_out\n",
    "    else:\n",
    "        return tangents_out\n",
    "\n",
    "\n",
    "# loss function\n",
    "def spinn_loss_klein_gordon3d(apply_fn, *train_data):\n",
    "    def residual_loss(params, t, x, y, source_term):\n",
    "        # calculate u\n",
    "        u = apply_fn(params, t, x, y)\n",
    "        # tangent vector dx/dx\n",
    "        # assumes t, x, y have same shape (very important)\n",
    "        v = jnp.ones(t.shape)\n",
    "        # 2nd derivatives of u\n",
    "        utt = hvp_fwdfwd(lambda t: apply_fn(params, t, x, y), (t,), (v,))\n",
    "        uxx = hvp_fwdfwd(lambda x: apply_fn(params, t, x, y), (x,), (v,))\n",
    "        uyy = hvp_fwdfwd(lambda y: apply_fn(params, t, x, y), (y,), (v,))\n",
    "        return jnp.mean((utt - uxx - uyy + u**2 - source_term)**2)\n",
    "\n",
    "    def initial_loss(params, t, x, y, u):\n",
    "        return jnp.mean((apply_fn(params, t, x, y) - u)**2)\n",
    "\n",
    "    def boundary_loss(params, t, x, y, u):\n",
    "        loss = 0.\n",
    "        for i in range(4):\n",
    "            loss += (1/4.) * jnp.mean((apply_fn(params, t[i], x[i], y[i]) - u[i])**2)\n",
    "        return loss\n",
    "\n",
    "    # unpack data\n",
    "    tc, xc, yc, uc, ti, xi, yi, ui, tb, xb, yb, ub = train_data\n",
    "\n",
    "    # isolate loss function from redundant arguments\n",
    "    fn = lambda params: residual_loss(params, tc, xc, yc, uc) + \\\n",
    "                        initial_loss(params, ti, xi, yi, ui) + \\\n",
    "                        boundary_loss(params, tb, xb, yb, ub)\n",
    "\n",
    "    return fn\n",
    "\n",
    "\n",
    "# optimizer step function\n",
    "@partial(jax.jit, static_argnums=(0,))\n",
    "def update_model(optim, gradient, params, state):\n",
    "    updates, state = optim.update(gradient, state)\n",
    "    params = optax.apply_updates(params, updates)\n",
    "    return params, state"
   ]
  },
  {
   "attachments": {},
   "cell_type": "markdown",
   "metadata": {
    "id": "y3OErz7bN_5O"
   },
   "source": [
    "## 2. Data generator"
   ]
  },
  {
   "cell_type": "code",
   "execution_count": 5,
   "metadata": {
    "executionInfo": {
     "elapsed": 343,
     "status": "ok",
     "timestamp": 1660882526334,
     "user": {
      "displayName": "Seungtae Nam",
      "userId": "06693906068580730486"
     },
     "user_tz": -540
    },
    "id": "VVY7wtfBN_5O"
   },
   "outputs": [],
   "source": [
    "# 2d time-dependent klein-gordon exact u\n",
    "def _klein_gordon3d_exact_u(t, x, y):\n",
    "    return (x + y) * jnp.cos(2*t) + (x * y) * jnp.sin(2*t)\n",
    "\n",
    "\n",
    "# 2d time-dependent klein-gordon source term\n",
    "def _klein_gordon3d_source_term(t, x, y):\n",
    "    u = _klein_gordon3d_exact_u(t, x, y)\n",
    "    return u**2 - 4*u\n",
    "\n",
    "\n",
    "# train data\n",
    "def spinn_train_generator_klein_gordon3d(nc, key):\n",
    "    keys = jax.random.split(key, 3)\n",
    "    # collocation points\n",
    "    tc = jax.random.uniform(keys[0], (nc, 1), minval=0., maxval=10.)\n",
    "    xc = jax.random.uniform(keys[1], (nc, 1), minval=-1., maxval=1.)\n",
    "    yc = jax.random.uniform(keys[2], (nc, 1), minval=-1., maxval=1.)\n",
    "    tc_mesh, xc_mesh, yc_mesh = jnp.meshgrid(tc.ravel(), xc.ravel(), yc.ravel(), indexing='ij')\n",
    "    uc = _klein_gordon3d_source_term(tc_mesh, xc_mesh, yc_mesh)\n",
    "    # initial points\n",
    "    ti = jnp.zeros((1, 1))\n",
    "    xi = xc\n",
    "    yi = yc\n",
    "    ti_mesh, xi_mesh, yi_mesh = jnp.meshgrid(ti.ravel(), xi.ravel(), yi.ravel(), indexing='ij')\n",
    "    ui = _klein_gordon3d_exact_u(ti_mesh, xi_mesh, yi_mesh)\n",
    "    # boundary points (hard-coded)\n",
    "    tb = [tc, tc, tc, tc]\n",
    "    xb = [jnp.array([[-1.]]), jnp.array([[1.]]), xc, xc]\n",
    "    yb = [yc, yc, jnp.array([[-1.]]), jnp.array([[1.]])]\n",
    "    ub = []\n",
    "    for i in range(4):\n",
    "        tb_mesh, xb_mesh, yb_mesh = jnp.meshgrid(tb[i].ravel(), xb[i].ravel(), yb[i].ravel(), indexing='ij')\n",
    "        ub += [_klein_gordon3d_exact_u(tb_mesh, xb_mesh, yb_mesh)]\n",
    "    return tc, xc, yc, uc, ti, xi, yi, ui, tb, xb, yb, ub\n",
    "\n",
    "\n",
    "# test data\n",
    "def spinn_test_generator_klein_gordon3d(nc_test):\n",
    "    t = jnp.linspace(0, 10, nc_test)\n",
    "    x = jnp.linspace(-1, 1, nc_test)\n",
    "    y = jnp.linspace(-1, 1, nc_test)\n",
    "    t = jax.lax.stop_gradient(t)\n",
    "    x = jax.lax.stop_gradient(x)\n",
    "    y = jax.lax.stop_gradient(y)\n",
    "    tm, xm, ym = jnp.meshgrid(t, x, y, indexing='ij')\n",
    "    u_gt = _klein_gordon3d_exact_u(tm, xm, ym)\n",
    "    t = t.reshape(-1, 1)\n",
    "    x = x.reshape(-1, 1)\n",
    "    y = y.reshape(-1, 1)\n",
    "    return t, x, y, u_gt, tm, xm, ym"
   ]
  },
  {
   "attachments": {},
   "cell_type": "markdown",
   "metadata": {
    "id": "wEWeH3ZFN_5P"
   },
   "source": [
    "## 3. Utils"
   ]
  },
  {
   "cell_type": "code",
   "execution_count": 6,
   "metadata": {
    "executionInfo": {
     "elapsed": 306,
     "status": "ok",
     "timestamp": 1660882528274,
     "user": {
      "displayName": "Seungtae Nam",
      "userId": "06693906068580730486"
     },
     "user_tz": -540
    },
    "id": "cLX1oaDUN_5P"
   },
   "outputs": [],
   "source": [
    "def relative_l2(u, u_gt):\n",
    "    return jnp.linalg.norm(u-u_gt) / jnp.linalg.norm(u_gt)\n",
    "\n",
    "def plot_klein_gordon3d(t, x, y, u):\n",
    "    fig = plt.figure(figsize=(6, 6))\n",
    "    ax = fig.add_subplot(111, projection='3d')\n",
    "    ax.scatter(t, x, y, c=u, s=0.5, cmap='seismic')\n",
    "    ax.set_title('U(t, x, y)', fontsize=20)\n",
    "    ax.set_xlabel('t', fontsize=18, labelpad=10)\n",
    "    ax.set_ylabel('x', fontsize=18, labelpad=10)\n",
    "    ax.set_zlabel('y', fontsize=18, labelpad=10)\n",
    "    plt.show()"
   ]
  },
  {
   "attachments": {},
   "cell_type": "markdown",
   "metadata": {
    "id": "9Q3WgLq_N_5P"
   },
   "source": [
    "## 4. Main function"
   ]
  },
  {
   "cell_type": "code",
   "execution_count": 7,
   "metadata": {
    "executionInfo": {
     "elapsed": 326,
     "status": "ok",
     "timestamp": 1660882530315,
     "user": {
      "displayName": "Seungtae Nam",
      "userId": "06693906068580730486"
     },
     "user_tz": -540
    },
    "id": "VHtJazHuN_5Q"
   },
   "outputs": [],
   "source": [
    "def main(NC, NI, NB, NC_TEST, SEED, LR, EPOCHS, N_LAYERS, FEATURES, LOG_ITER):\n",
    "    # force jax to use one device\n",
    "    os.environ[\"CUDA_VISIBLE_DEVICES\"]=\"0\"\n",
    "    os.environ[\"XLA_PYTHON_CLIENT_PREALLOCATE\"]=\"false\"\n",
    "\n",
    "    # random key\n",
    "    key = jax.random.PRNGKey(SEED)\n",
    "    key, subkey = jax.random.split(key, 2)\n",
    "\n",
    "    # feature sizes\n",
    "    feat_sizes = tuple(FEATURES for _ in range(N_LAYERS))\n",
    "\n",
    "    # make & init model\n",
    "    model = SPINN(feat_sizes)\n",
    "    params = model.init(subkey, jnp.ones((NC, 1)), jnp.ones((NC, 1)), jnp.ones((NC, 1)))\n",
    "\n",
    "    # optimizer\n",
    "    optim = optax.adam(LR)\n",
    "    state = optim.init(params)\n",
    "\n",
    "    # dataset\n",
    "    key, subkey = jax.random.split(key, 2)\n",
    "    train_data = spinn_train_generator_klein_gordon3d(NC, subkey)\n",
    "    t, x, y, u_gt, tm, xm, ym = spinn_test_generator_klein_gordon3d(NC_TEST)\n",
    "\n",
    "    # forward & loss function\n",
    "    apply_fn = jax.jit(model.apply)\n",
    "    loss_fn = spinn_loss_klein_gordon3d(apply_fn, *train_data)\n",
    "\n",
    "    @jax.jit\n",
    "    def train_one_step(params, state):\n",
    "        # compute loss and gradient\n",
    "        loss, gradient = value_and_grad(loss_fn)(params)\n",
    "        # update state\n",
    "        params, state = update_model(optim, gradient, params, state)\n",
    "        return loss, params, state\n",
    "    \n",
    "    start = time.time()\n",
    "    for e in trange(1, EPOCHS+1):\n",
    "        # single run\n",
    "        loss, params, state = train_one_step(params, state)\n",
    "        if e % LOG_ITER == 0:\n",
    "            u = apply_fn(params, t, x, y)\n",
    "            error = relative_l2(u, u_gt)\n",
    "            print(f'Epoch: {e}/{EPOCHS} --> loss: {loss:.8f}, error: {error:.8f}')\n",
    "    end = time.time()\n",
    "    print(f'Runtime: {((end-start)/EPOCHS*1000):.2f} ms/iter.')\n",
    "\n",
    "    print('Solution:')\n",
    "    u = apply_fn(params, t, x, y)\n",
    "    plot_klein_gordon3d(tm, xm, ym, u)"
   ]
  },
  {
   "attachments": {},
   "cell_type": "markdown",
   "metadata": {
    "id": "eCdzoogAN_5Q"
   },
   "source": [
    "## 5. Run!"
   ]
  },
  {
   "cell_type": "code",
   "execution_count": 8,
   "metadata": {
    "colab": {
     "base_uri": "https://localhost:8080/",
     "height": 448
    },
    "executionInfo": {
     "elapsed": 159365,
     "status": "ok",
     "timestamp": 1660882219515,
     "user": {
      "displayName": "Seungtae Nam",
      "userId": "06693906068580730486"
     },
     "user_tz": -540
    },
    "id": "j-DGXwqYN_5Q",
    "outputId": "2a4e9df1-378f-460e-cb99-70613412a8da"
   },
   "outputs": [
    {
     "name": "stderr",
     "output_type": "stream",
     "text": [
      "  7%|▋         | 3417/50000 [00:20<04:44, 163.98it/s]\n"
     ]
    },
    {
     "ename": "KeyboardInterrupt",
     "evalue": "",
     "output_type": "error",
     "traceback": [
      "\u001b[31m---------------------------------------------------------------------------\u001b[39m",
      "\u001b[31mKeyboardInterrupt\u001b[39m                         Traceback (most recent call last)",
      "\u001b[36mCell\u001b[39m\u001b[36m \u001b[39m\u001b[32mIn[8]\u001b[39m\u001b[32m, line 1\u001b[39m\n\u001b[32m----> \u001b[39m\u001b[32m1\u001b[39m \u001b[43mmain\u001b[49m\u001b[43m(\u001b[49m\u001b[43mNC\u001b[49m\u001b[43m=\u001b[49m\u001b[32;43m64\u001b[39;49m\u001b[43m,\u001b[49m\u001b[43m \u001b[49m\u001b[43mNI\u001b[49m\u001b[43m=\u001b[49m\u001b[32;43m64\u001b[39;49m\u001b[43m,\u001b[49m\u001b[43m \u001b[49m\u001b[43mNB\u001b[49m\u001b[43m=\u001b[49m\u001b[32;43m64\u001b[39;49m\u001b[43m,\u001b[49m\u001b[43m \u001b[49m\u001b[43mNC_TEST\u001b[49m\u001b[43m=\u001b[49m\u001b[32;43m100\u001b[39;49m\u001b[43m,\u001b[49m\u001b[43m \u001b[49m\u001b[43mSEED\u001b[49m\u001b[43m=\u001b[49m\u001b[32;43m444\u001b[39;49m\u001b[43m,\u001b[49m\u001b[43m \u001b[49m\u001b[43mLR\u001b[49m\u001b[43m=\u001b[49m\u001b[32;43m1e-3\u001b[39;49m\u001b[43m,\u001b[49m\u001b[43m \u001b[49m\u001b[43mEPOCHS\u001b[49m\u001b[43m=\u001b[49m\u001b[32;43m50000\u001b[39;49m\u001b[43m,\u001b[49m\u001b[43m \u001b[49m\u001b[43mN_LAYERS\u001b[49m\u001b[43m=\u001b[49m\u001b[32;43m4\u001b[39;49m\u001b[43m,\u001b[49m\u001b[43m \u001b[49m\u001b[43mFEATURES\u001b[49m\u001b[43m=\u001b[49m\u001b[32;43m64\u001b[39;49m\u001b[43m,\u001b[49m\u001b[43m \u001b[49m\u001b[43mLOG_ITER\u001b[49m\u001b[43m=\u001b[49m\u001b[32;43m25000\u001b[39;49m\u001b[43m)\u001b[49m\n",
      "\u001b[36mCell\u001b[39m\u001b[36m \u001b[39m\u001b[32mIn[7]\u001b[39m\u001b[32m, line 41\u001b[39m, in \u001b[36mmain\u001b[39m\u001b[34m(NC, NI, NB, NC_TEST, SEED, LR, EPOCHS, N_LAYERS, FEATURES, LOG_ITER)\u001b[39m\n\u001b[32m     38\u001b[39m start = time.time()\n\u001b[32m     39\u001b[39m \u001b[38;5;28;01mfor\u001b[39;00m e \u001b[38;5;129;01min\u001b[39;00m trange(\u001b[32m1\u001b[39m, EPOCHS+\u001b[32m1\u001b[39m):\n\u001b[32m     40\u001b[39m     \u001b[38;5;66;03m# single run\u001b[39;00m\n\u001b[32m---> \u001b[39m\u001b[32m41\u001b[39m     loss, params, state = \u001b[43mtrain_one_step\u001b[49m\u001b[43m(\u001b[49m\u001b[43mparams\u001b[49m\u001b[43m,\u001b[49m\u001b[43m \u001b[49m\u001b[43mstate\u001b[49m\u001b[43m)\u001b[49m\n\u001b[32m     42\u001b[39m     \u001b[38;5;28;01mif\u001b[39;00m e % LOG_ITER == \u001b[32m0\u001b[39m:\n\u001b[32m     43\u001b[39m         u = apply_fn(params, t, x, y)\n",
      "\u001b[36mFile \u001b[39m\u001b[32m<string>:1\u001b[39m, in \u001b[36m<lambda>\u001b[39m\u001b[34m(_cls, count, mu, nu)\u001b[39m\n",
      "\u001b[31mKeyboardInterrupt\u001b[39m: "
     ]
    }
   ],
   "source": [
    "main(NC=64, NI=64, NB=64, NC_TEST=100, SEED=444, LR=1e-3, EPOCHS=50000, N_LAYERS=4, FEATURES=64, LOG_ITER=25000)"
   ]
  },
  {
   "cell_type": "code",
   "execution_count": null,
   "metadata": {},
   "outputs": [],
   "source": []
  }
 ],
 "metadata": {
  "accelerator": "GPU",
  "colab": {
   "collapsed_sections": [],
   "name": "spinn_demo.ipynb",
   "provenance": []
  },
  "gpuClass": "standard",
  "kernelspec": {
   "display_name": "Python 3",
   "language": "python",
   "name": "python3"
  },
  "language_info": {
   "codemirror_mode": {
    "name": "ipython",
    "version": 3
   },
   "file_extension": ".py",
   "mimetype": "text/x-python",
   "name": "python",
   "nbconvert_exporter": "python",
   "pygments_lexer": "ipython3",
   "version": "3.9.6"
  },
  "orig_nbformat": 4,
  "vscode": {
   "interpreter": {
    "hash": "31f2aee4e71d21fbe5cf8b01ff0e069b9275f58929596ceb00d14d90e3e16cd6"
   }
  }
 },
 "nbformat": 4,
 "nbformat_minor": 0
}
